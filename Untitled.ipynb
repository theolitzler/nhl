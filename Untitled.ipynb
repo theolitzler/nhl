{
 "cells": [
  {
   "cell_type": "code",
   "execution_count": 6,
   "id": "f994a9b4",
   "metadata": {},
   "outputs": [
    {
     "name": "stdout",
     "output_type": "stream",
     "text": [
      "                    Teams          Elo\n",
      "0        Florida Panthers  1652.927245\n",
      "1         Edmonton Oilers  1624.896637\n",
      "2       Vancouver Canucks  1620.410009\n",
      "3     Carolina Hurricanes  1618.210183\n",
      "4           Winnipeg Jets  1602.444472\n",
      "5            Dallas Stars  1595.356912\n",
      "6        New York Rangers  1581.005285\n",
      "7     Tampa Bay Lightning  1560.983340\n",
      "8     Toronto Maple Leafs  1555.384538\n",
      "9      Colorado Avalanche  1545.886402\n",
      "10   Vegas Golden Knights  1538.678049\n",
      "11          Boston Bruins  1533.282227\n",
      "12      Detroit Red Wings  1533.195095\n",
      "13        St. Louis Blues  1524.690755\n",
      "14    Philadelphia Flyers  1523.424782\n",
      "15         Minnesota Wild  1512.214798\n",
      "16      Los Angeles Kings  1510.407152\n",
      "17      New Jersey Devils  1504.752202\n",
      "18    Nashville Predators  1471.218423\n",
      "19         Seattle Kraken  1468.726693\n",
      "20         Buffalo Sabres  1468.061196\n",
      "21    Pittsburgh Penguins  1465.692325\n",
      "22         Calgary Flames  1462.951508\n",
      "23    Washington Capitals  1445.565085\n",
      "24        Ottawa Senators  1432.014067\n",
      "25     New York Islanders  1423.204213\n",
      "26  Columbus Blue Jackets  1400.881849\n",
      "27     Montreal Canadiens  1396.951919\n",
      "28        Arizona Coyotes  1393.375603\n",
      "29          Anaheim Ducks  1371.982647\n",
      "30        San Jose Sharks  1358.807900\n",
      "31     Chicago Blackhawks  1302.416490\n"
     ]
    },
    {
     "name": "stderr",
     "output_type": "stream",
     "text": [
      "C:\\Users\\theol\\AppData\\Local\\Temp\\ipykernel_12968\\1177384154.py:6: FutureWarning: A value is trying to be set on a copy of a DataFrame or Series through chained assignment using an inplace method.\n",
      "The behavior will change in pandas 3.0. This inplace method will never work because the intermediate object on which we are setting values always behaves as a copy.\n",
      "\n",
      "For example, when doing 'df[col].method(value, inplace=True)', try using 'df.method({col: value}, inplace=True)' or df[col] = df[col].method(value) instead, to perform the operation inplace on the original object.\n",
      "\n",
      "\n",
      "  df['SO'].fillna(False, inplace=True)\n",
      "C:\\Users\\theol\\AppData\\Local\\Temp\\ipykernel_12968\\1177384154.py:7: FutureWarning: Downcasting behavior in `replace` is deprecated and will be removed in a future version. To retain the old behavior, explicitly call `result.infer_objects(copy=False)`. To opt-in to the future behavior, set `pd.set_option('future.no_silent_downcasting', True)`\n",
      "  df['SO'] = df['SO'].replace(['OT', 'SO'], True)\n"
     ]
    }
   ],
   "source": [
    "import math\n",
    "import pandas as pd\n",
    "\n",
    "# Load and preprocess the data\n",
    "df = pd.read_csv(\"nhl.csv\")\n",
    "df['SO'].fillna(False, inplace=True)\n",
    "df['SO'] = df['SO'].replace(['OT', 'SO'], True)\n",
    "\n",
    "# Initialize Elo ratings for all teams\n",
    "all_teams = df['Home'].unique()\n",
    "elo_dict = {team: 1500 for team in all_teams}\n",
    "\n",
    "def winner(scoreA, scoreB, shootout):\n",
    "    if scoreA > scoreB:\n",
    "        return 40 if not shootout else 20\n",
    "    elif scoreA < scoreB:\n",
    "        return -40 if not shootout else -20\n",
    "    return 0  # In case of a tie, although not handled in the current logic\n",
    "\n",
    "def victory_prob(eloA, eloB):\n",
    "    return 1 / (1 + 10 ** ((eloB - eloA) / 400))\n",
    "\n",
    "def elo_update(teamA, scoreA, teamB, scoreB, shootout):\n",
    "    eloA = elo_dict[teamA]\n",
    "    eloB = elo_dict[teamB]\n",
    "    \n",
    "    k = abs(winner(scoreA, scoreB, shootout))\n",
    "    probA = victory_prob(eloA, eloB)\n",
    "    probB = victory_prob(eloB, eloA)\n",
    "\n",
    "    if scoreA > scoreB:\n",
    "        elo_dict[teamA] = eloA + k * (1 - probA)\n",
    "        elo_dict[teamB] = eloB + k * (0 - probB)\n",
    "    else:\n",
    "        elo_dict[teamA] = eloA + k * (0 - probA)\n",
    "        elo_dict[teamB] = eloB + k * (1 - probB)\n",
    "\n",
    "# Process each game row-by-row\n",
    "for _, row in df.iterrows():\n",
    "    if not math.isnan(row['VGoal']):\n",
    "        elo_update(row['Visitor'], row['VGoal'], row['Home'], row['HGoal'], row['SO'])\n",
    "\n",
    "# Convert the dictionary to a DataFrame and sort by Elo rating\n",
    "ranking_table = pd.DataFrame(list(elo_dict.items()), columns=['Teams', 'Elo']).sort_values(by='Elo', ascending=False, ignore_index=True)\n",
    "print(ranking_table)"
   ]
  }
 ],
 "metadata": {
  "kernelspec": {
   "display_name": "Python 3",
   "language": "python",
   "name": "python3"
  },
  "language_info": {
   "codemirror_mode": {
    "name": "ipython",
    "version": 3
   },
   "file_extension": ".py",
   "mimetype": "text/x-python",
   "name": "python",
   "nbconvert_exporter": "python",
   "pygments_lexer": "ipython3",
   "version": "3.12.3"
  }
 },
 "nbformat": 4,
 "nbformat_minor": 5
}
